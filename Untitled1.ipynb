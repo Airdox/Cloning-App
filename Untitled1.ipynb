{
  "cells": [
    {
      "cell_type": "markdown",
      "metadata": {
        "id": "view-in-github",
        "colab_type": "text"
      },
      "source": [
        "<a href=\"https://colab.research.google.com/github/Airdox/Cloning-App/blob/main/Untitled1.ipynb\" target=\"_parent\"><img src=\"https://colab.research.google.com/assets/colab-badge.svg\" alt=\"Open In Colab\"/></a>"
      ]
    },
    {
      "cell_type": "code",
      "execution_count": null,
      "metadata": {
        "colab": {
          "base_uri": "https://localhost:8080/",
          "height": 55
        },
        "id": "4KqAxVLP4azX",
        "outputId": "17323036-9f3b-4b4e-ef70-53927d3892f2"
      },
      "outputs": [
        {
          "data": {
            "application/javascript": [
              "\n",
              "function KeepClicking(){\n",
              "  console.log(\"Keeping session alive...\");\n",
              "  document.querySelector(\"colab-connect-button\").click()\n",
              "}\n",
              "// Klicke alle 60 Sekunden\n",
              "setInterval(KeepClicking, 60000)\n"
            ],
            "text/plain": [
              "<IPython.core.display.Javascript object>"
            ]
          },
          "metadata": {},
          "output_type": "display_data"
        },
        {
          "name": "stdout",
          "output_type": "stream",
          "text": [
            "Anti-Timeout-Mechanismus aktiviert. Colab-Sitzung bleibt aktiv.\n"
          ]
        }
      ],
      "source": [
        "# ZELLE 1: Anti-Timeout-Mechanismus\n",
        "# Verhindert, dass Colab die Verbindung trennt\n",
        "from IPython.display import display, Javascript\n",
        "import time\n",
        "\n",
        "display(Javascript('''\n",
        "function KeepClicking(){\n",
        "  console.log(\"Keeping session alive...\");\n",
        "  document.querySelector(\"colab-connect-button\").click()\n",
        "}\n",
        "// Klicke alle 60 Sekunden\n",
        "setInterval(KeepClicking, 60000)\n",
        "'''))\n",
        "\n",
        "print(\"Anti-Timeout-Mechanismus aktiviert. Colab-Sitzung bleibt aktiv.\")"
      ]
    },
    {
      "cell_type": "code",
      "execution_count": null,
      "metadata": {
        "colab": {
          "background_save": true
        },
        "id": "wKT28dUt4pN6"
      },
      "outputs": [],
      "source": [
        "# ZELLE 2: Systemumgebung vorbereiten\n",
        "%%capture system_setup_output\n",
        "# Capture unterdrückt die Ausgabe für bessere Übersichtlichkeit\n",
        "\n",
        "import os\n",
        "import sys\n",
        "from datetime import datetime\n",
        "\n",
        "# Systemzeit anzeigen\n",
        "start_time = datetime.now()\n",
        "print(f\"Build-Prozess gestartet: {start_time}\")\n",
        "\n",
        "# Systemabhängigkeiten installieren\n",
        "!apt-get update\n",
        "!apt-get install -y git zip unzip openjdk-11-jdk python3-pip autoconf libtool pkg-config zlib1g-dev libncurses5-dev libncursesw5-dev libtinfo-dev cmake libffi-dev libssl-dev wget curl lsb-release software-properties-common\n",
        "\n",
        "# Python-Abhängigkeiten installieren\n",
        "!pip install --upgrade pip\n",
        "!pip install cython==0.29.24 buildozer==1.5.0 pyjnius colorama jinja2\n",
        "\n",
        "print(\"Systemumgebung und Abhängigkeiten erfolgreich installiert.\")"
      ]
    },
    {
      "cell_type": "code",
      "execution_count": null,
      "metadata": {
        "id": "wjNgkvwg4yw8"
      },
      "outputs": [],
      "source": [
        "# ZELLE 3: Überprüfe die Installation\n",
        "# Zeige die Ausgabe der vorherigen Zelle an, wenn nötig\n",
        "print(system_setup_output)\n",
        "\n",
        "# Überprüfe wichtige Komponenten\n",
        "print(\"=== SYSTEMÜBERPRÜFUNG ===\")\n",
        "!python --version\n",
        "!java -version\n",
        "!which javac\n",
        "!which git\n",
        "!which buildozer\n",
        "!buildozer --version\n",
        "print(\"=== ÜBERPRÜFUNG ABGESCHLOSSEN ===\")"
      ]
    },
    {
      "cell_type": "code",
      "execution_count": null,
      "metadata": {
        "id": "5QeM9ZZe44Bu"
      },
      "outputs": [],
      "source": []
    },
    {
      "cell_type": "code",
      "source": [],
      "metadata": {
        "id": "yO111MdP-c_h"
      },
      "execution_count": null,
      "outputs": []
    },
    {
      "cell_type": "code",
      "source": [],
      "metadata": {
        "id": "mlesCqqK-d6g"
      },
      "execution_count": null,
      "outputs": []
    }
  ],
  "metadata": {
    "accelerator": "GPU",
    "colab": {
      "gpuType": "T4",
      "provenance": [],
      "authorship_tag": "ABX9TyN9eAR7gMf2C3USZIArTD1o",
      "include_colab_link": true
    },
    "kernelspec": {
      "display_name": "Python 3",
      "name": "python3"
    },
    "language_info": {
      "name": "python"
    }
  },
  "nbformat": 4,
  "nbformat_minor": 0
}